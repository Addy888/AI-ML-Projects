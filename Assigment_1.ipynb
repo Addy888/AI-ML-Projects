{
  "nbformat": 4,
  "nbformat_minor": 0,
  "metadata": {
    "colab": {
      "provenance": [],
      "authorship_tag": "ABX9TyM0WGR4AHO+hBSE9LUr+ol9",
      "include_colab_link": true
    },
    "kernelspec": {
      "name": "python3",
      "display_name": "Python 3"
    },
    "language_info": {
      "name": "python"
    }
  },
  "cells": [
    {
      "cell_type": "markdown",
      "metadata": {
        "id": "view-in-github",
        "colab_type": "text"
      },
      "source": [
        "<a href=\"https://colab.research.google.com/github/Addy888/Addy888/blob/main/Assigment_1.ipynb\" target=\"_parent\"><img src=\"https://colab.research.google.com/assets/colab-badge.svg\" alt=\"Open In Colab\"/></a>"
      ]
    },
    {
      "cell_type": "markdown",
      "source": [
        "question:-Calculate the mean and median for the following"
      ],
      "metadata": {
        "id": "Uolbs1W9xlWO"
      }
    },
    {
      "cell_type": "markdown",
      "source": [
        "Positive Integer Numbers"
      ],
      "metadata": {
        "id": "wFYxTMSIwHlo"
      }
    },
    {
      "cell_type": "code",
      "execution_count": null,
      "metadata": {
        "colab": {
          "base_uri": "https://localhost:8080/"
        },
        "id": "iFjwBB-JwBhs",
        "outputId": "e9a285d4-a71c-417c-fc64-d1de63a73900"
      },
      "outputs": [
        {
          "output_type": "stream",
          "name": "stdout",
          "text": [
            "Mean of data set 1 is 7.857142857142857\n"
          ]
        }
      ],
      "source": [
        "from statistics import mean\n",
        " pos_int = (12, 5, 3, 8, 6, 10, 11)\n",
        " print(\"Mean of data set 1 is % s\" % (mean(pos_int)))"
      ]
    },
    {
      "cell_type": "markdown",
      "source": [
        "Negative Integer Numbers"
      ],
      "metadata": {
        "id": "qIVjqqpDwRUT"
      }
    },
    {
      "cell_type": "code",
      "source": [
        "from statistics import mean\n",
        " neg_int = (-3, -1, -8, -11, -15, -9)\n",
        " print(\"Mean of data set 2 is % s\" % (mean(neg_int)))"
      ],
      "metadata": {
        "colab": {
          "base_uri": "https://localhost:8080/"
        },
        "id": "nvdrImEUwQVB",
        "outputId": "3b376a2d-4c1b-4cab-b1d7-b997b12e1d21"
      },
      "execution_count": null,
      "outputs": [
        {
          "output_type": "stream",
          "name": "stdout",
          "text": [
            "Mean of data set 2 is -7.833333333333333\n"
          ]
        }
      ]
    },
    {
      "cell_type": "markdown",
      "source": [
        "Mixed Integer Numbers"
      ],
      "metadata": {
        "id": "mmDDMS8QwdmN"
      }
    },
    {
      "cell_type": "code",
      "source": [
        "from statistics import mean\n",
        " mix_int = (-3, -8, -16, 12, 9, 16, 8)\n",
        " print(\"Mean of data set 3 is % s\" % (mean(mix_int)))"
      ],
      "metadata": {
        "colab": {
          "base_uri": "https://localhost:8080/"
        },
        "id": "N_3Ou24VweMN",
        "outputId": "83dcfe82-27e0-4cf3-ec2b-ef5cddc50ac8"
      },
      "execution_count": null,
      "outputs": [
        {
          "output_type": "stream",
          "name": "stdout",
          "text": [
            "Mean of data set 3 is 2.5714285714285716\n"
          ]
        }
      ]
    },
    {
      "cell_type": "markdown",
      "source": [
        "Fractional Numbers (By using Fraction module)"
      ],
      "metadata": {
        "id": "Abtyv7ihwesd"
      }
    },
    {
      "cell_type": "code",
      "source": [
        "from statistics import mean\n",
        ">>> from fractions import Fraction as fr\n",
        ">>> frac_avg = (fr(2, 3), fr(66, 12), fr(20, 3), fr(20, 30))\n",
        ">>> print(\"Mean of data set 4 is % s\" % (mean(frac_avg)))"
      ],
      "metadata": {
        "colab": {
          "base_uri": "https://localhost:8080/"
        },
        "id": "WRv4IEplwfSl",
        "outputId": "64104415-78e8-4869-f293-e5a3b52cb338"
      },
      "execution_count": null,
      "outputs": [
        {
          "output_type": "stream",
          "name": "stdout",
          "text": [
            "Mean of data set 4 is 27/8\n"
          ]
        }
      ]
    },
    {
      "cell_type": "markdown",
      "source": [
        "Dictionary of set of numbers"
      ],
      "metadata": {
        "id": "wAsHNds7w8Uq"
      }
    },
    {
      "cell_type": "code",
      "source": [
        "from statistics import mean\n",
        ">>> dict_avg = {1:\"one\", 2:\"two\", 3:\"three\"}\n",
        ">>> print(\"Mean of data set 5 is % s\" % (mean(dict_avg)))"
      ],
      "metadata": {
        "colab": {
          "base_uri": "https://localhost:8080/"
        },
        "id": "93oJsCnNw85q",
        "outputId": "8cb0bf28-7f93-43e4-f146-530c3eed2405"
      },
      "execution_count": null,
      "outputs": [
        {
          "output_type": "stream",
          "name": "stdout",
          "text": [
            "Mean of data set 5 is 2\n"
          ]
        }
      ]
    },
    {
      "cell_type": "markdown",
      "source": [
        "Question:-2"
      ],
      "metadata": {
        "id": "bsQb5Bd0xu0g"
      }
    },
    {
      "cell_type": "markdown",
      "source": [
        "Calculate the following for given data 21, 24, 22, 21, 23, 26, 24, 29, 28, 30, 31, 28, 24,\n",
        "26, 27, 25, 26, 26, 25, 27, 26, 29, 30, 29, 29, 28, 24, 23, 22, 23, 24"
      ],
      "metadata": {
        "id": "PCCH8a08DiDf"
      }
    },
    {
      "cell_type": "markdown",
      "source": [
        " Mean"
      ],
      "metadata": {
        "id": "LKnTuHepDqrT"
      }
    },
    {
      "cell_type": "code",
      "source": [
        "import statistics\n",
        "temperature=[21,24,22,21,23,26,24,29,28,30,31,28,24,26,27,25,26,26,25,27,26,29,30,29,29,28,24,23,22,23,24]\n",
        "x = statistics.mean(temperature)\n",
        "print(\"Mean Temperature is :\", x)\n"
      ],
      "metadata": {
        "colab": {
          "base_uri": "https://localhost:8080/"
        },
        "id": "L9QukCq_DmlN",
        "outputId": "3ed65f6b-bcf9-4ae7-cd81-173109695713"
      },
      "execution_count": null,
      "outputs": [
        {
          "output_type": "stream",
          "name": "stdout",
          "text": [
            "Mean Temperature is : 25.806451612903224\n"
          ]
        }
      ]
    },
    {
      "cell_type": "markdown",
      "source": [
        "Median"
      ],
      "metadata": {
        "id": "_U_MJ3qREISk"
      }
    },
    {
      "cell_type": "code",
      "source": [
        "import statistics\n",
        "temperature=[21,24,22,21,23,26,24,29,28,30,31,28,24,26,27,25,26,26,25,27,26,29,30,29,29,28,24,23,22,23,24]\n",
        "x = statistics.median(temperature)\n",
        "print(\"Median Temperature is :\", x)"
      ],
      "metadata": {
        "colab": {
          "base_uri": "https://localhost:8080/"
        },
        "id": "k1PBtM1kEIvC",
        "outputId": "2321f789-4e8b-4260-9777-6f291ce6d325"
      },
      "execution_count": null,
      "outputs": [
        {
          "output_type": "stream",
          "name": "stdout",
          "text": [
            "Median Temperature is : 26\n"
          ]
        }
      ]
    },
    {
      "cell_type": "markdown",
      "source": [
        " Trimmed mean with 10% and 20% threshold value"
      ],
      "metadata": {
        "id": "ZTPImNfMEc6U"
      }
    },
    {
      "cell_type": "code",
      "source": [
        "from scipy import stats\n",
        "temperature=[21,24,22,21,23,26,24,29,28,30,31,28,24,26,27,25,26,26,25,27,26,29,30,29,29,28,24,23,22,23,24]\n",
        "x=stats.trim_mean(temperature, 0.1)\n",
        "print(\"Trimmed Mean Temperature at 10% Threshold :\", x)\n",
        "x=stats.trim_mean(temperature, 0.2)\n",
        "print(\"Trimmed Mean Temperature at 20% Threshold :\", x)"
      ],
      "metadata": {
        "colab": {
          "base_uri": "https://localhost:8080/"
        },
        "id": "G1UgMPs6EdjY",
        "outputId": "ef6754b9-557f-4d35-8878-f94e243822ed"
      },
      "execution_count": null,
      "outputs": [
        {
          "output_type": "stream",
          "name": "stdout",
          "text": [
            "Trimmed Mean Temperature at 10% Threshold : 25.8\n",
            "Trimmed Mean Temperature at 20% Threshold : 25.789473684210527\n"
          ]
        }
      ]
    },
    {
      "cell_type": "markdown",
      "source": [
        "Range"
      ],
      "metadata": {
        "id": "q68vbOuCEeCD"
      }
    },
    {
      "cell_type": "code",
      "source": [
        "import numpy as np\n",
        "temperature=[21,24,22,21,23,26,24,29,28,30,31,28,24,26,27,25,26,26,25,27,26,29,30,29,29,28,24,23,22,23,24]\n",
        "print(\"Temperature Range is :\", np.max(temperature) - np.min(temperature))\n"
      ],
      "metadata": {
        "colab": {
          "base_uri": "https://localhost:8080/"
        },
        "id": "iHoo0Xm3Eetd",
        "outputId": "e570994d-c3d4-4c6a-934d-cc827fbafbe9"
      },
      "execution_count": null,
      "outputs": [
        {
          "output_type": "stream",
          "name": "stdout",
          "text": [
            "Temperature Range is : 10\n"
          ]
        }
      ]
    },
    {
      "cell_type": "markdown",
      "source": [
        "IQR"
      ],
      "metadata": {
        "id": "ZlmmEjigFelQ"
      }
    },
    {
      "cell_type": "code",
      "source": [
        "from scipy.stats import iqr\n",
        "temperature=[21,24,22,21,23,26,24,29,28,30,31,28,24,26,27,25,26,26,25,27,26,29,30,29,29,28,24,23,22,23,24]\n",
        "print(\"Temperature IQR is :\", iqr(temperature))\n"
      ],
      "metadata": {
        "colab": {
          "base_uri": "https://localhost:8080/"
        },
        "id": "zPdkvP0gFfy3",
        "outputId": "d45a97e5-1f52-4281-b355-af044c8ea2af"
      },
      "execution_count": null,
      "outputs": [
        {
          "output_type": "stream",
          "name": "stdout",
          "text": [
            "Temperature IQR is : 4.0\n"
          ]
        }
      ]
    },
    {
      "cell_type": "markdown",
      "source": [
        "Variance"
      ],
      "metadata": {
        "id": "YEimsiE_Fqmg"
      }
    },
    {
      "cell_type": "code",
      "source": [],
      "metadata": {
        "id": "_r51A1gIFsP8"
      },
      "execution_count": null,
      "outputs": []
    },
    {
      "cell_type": "markdown",
      "source": [
        "Standard Deviation"
      ],
      "metadata": {
        "id": "5wmEuPm7Fqji"
      }
    },
    {
      "cell_type": "code",
      "source": [],
      "metadata": {
        "id": "nudXcs4gF47-"
      },
      "execution_count": null,
      "outputs": []
    }
  ]
}